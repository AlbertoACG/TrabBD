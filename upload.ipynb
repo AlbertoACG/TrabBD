{
 "cells": [
  {
   "cell_type": "code",
   "execution_count": 1,
   "metadata": {},
   "outputs": [],
   "source": [
    "import csv"
   ]
  },
  {
   "cell_type": "code",
   "execution_count": 4,
   "metadata": {
    "scrolled": false
   },
   "outputs": [
    {
     "name": "stdout",
     "output_type": "stream",
     "text": [
      "id 1\n",
      "titulo Poster: 3D sketching and flexible input for surface design: A case study.\n",
      "ano 2013\n",
      "autores Anamary Leal|Doug A. Bowman\n",
      "citacoes 0\n",
      "atualizacao 2016-07-28 09:36:29\n",
      "snippet Poster: 3D sketching and flexible input for surface design: A case study. A Leal, DA Bowman -  Interfaces (3DUI), 2013 IEEE Symposium , 2013 - ieeexplore.ieee.org. ABSTRACT Designing three-dimensional (3D) surfaces is difficult in both the physical world  and in 3D modeling software, requiring background knowledge and skill. The goal of this  work is to make 3D surface design easier and more accessible through natural and  ..\n",
      "id 2\n",
      "titulo Poster: Portable integral photography input/ output system using tablet PC and fly's eye lenses.\n",
      "ano 2013\n",
      "autores Yusuke Kawano|Kazuhisa Yanaka\n",
      "citacoes 0\n",
      "atualizacao 2016-07-28 09:36:49\n",
      "snippet Poster: Portable integral photography input/output system using tablet PC and fly's eye lenses. Y Kawano, K Yanaka - 3D User Interfaces (3DUI), 2013 IEEE  , 2013 - ieeexplore.ieee.org. ABSTRACT We present a new system that can input and output integral photography  images. The system consists of a commerciallyavailable tablet PC to which fly's eye lenses,  one of which is for input and the other for output IP images, are attached. Light rays  ..\n",
      "id 3\n",
      "titulo Poster: Real-time markerless kinect based finger tracking and hand gesture recognition for HCI.\n",
      "ano 2013\n",
      "autores Arun Kulshreshth|Christopher Zorn|Joseph J. LaViola Jr.\n",
      "citacoes 22\n",
      "atualizacao 2016-10-03 21:16:22\n",
      "snippet Poster: Real-time markerless kinect based finger tracking and hand gesture recognition for HCI. A Kulshreshth, C Zorn, JJ LaViola - 3D User Interfaces (3DUI),  , 2013 - ieeexplore.ieee.org. ABSTRACT Hand gestures are intuitive ways to interact with a variety of user interfaces. We  developed a real-time finger tracking technique using the Microsoft Kinect as an input device  and compared its results with an existing technique that uses the K-curvature algorithm.  ..\n"
     ]
    }
   ],
   "source": [
    "i=0\n",
    "with open('arquivo.entrada.tp2.bd1.artigos.csv','r',encoding='utf-8') as f:\n",
    "    try:\n",
    "        arquivoDados = open('arquivoDeDados.txt','w+',encoding='utf-8')\n",
    "    except:\n",
    "        arquivoDados = open('arquivoDeDados.txt', 'w+',encoding='utf-8')\n",
    "        \n",
    "    reader = csv.reader(f, delimiter=';')\n",
    "    for r in reader:\n",
    "        arquivoDados.writelines('\"' + r[0] + '\";\"' + r[1] + '\";\"' + r[2] + '\";\"' + r[3] + '\";\"' + r[4] + '\";\"' + r[5] + '\";\"' + r[6] + '\"\\\\n')\n",
    "        print('id ' + r[0])\n",
    "        print('titulo ' + r[1])\n",
    "        print('ano ' + r[2])\n",
    "        print('autores ' + r[3])\n",
    "        print('citacoes ' + r[4])\n",
    "        print('atualizacao ' + r[5])\n",
    "        print('snippet ' + r[6])\n",
    "        if i == 2:\n",
    "            break\n",
    "        i+=1\n",
    "        "
   ]
  },
  {
   "cell_type": "code",
   "execution_count": 3,
   "metadata": {},
   "outputs": [
    {
     "name": "stdout",
     "output_type": "stream",
     "text": [
      "\n"
     ]
    }
   ],
   "source": [
    "arq = open('arquivoDeDados.txt','r',encoding='utf-8')\n",
    "arq.seek(576, 0)\n",
    "print(arq.readline())"
   ]
  },
  {
   "cell_type": "code",
   "execution_count": null,
   "metadata": {},
   "outputs": [],
   "source": []
  }
 ],
 "metadata": {
  "kernelspec": {
   "display_name": "Python 3",
   "language": "python",
   "name": "python3"
  },
  "language_info": {
   "codemirror_mode": {
    "name": "ipython",
    "version": 3
   },
   "file_extension": ".py",
   "mimetype": "text/x-python",
   "name": "python",
   "nbconvert_exporter": "python",
   "pygments_lexer": "ipython3",
   "version": "3.6.5"
  }
 },
 "nbformat": 4,
 "nbformat_minor": 2
}
