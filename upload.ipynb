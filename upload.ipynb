{
 "cells": [
  {
   "cell_type": "code",
   "execution_count": 1,
   "metadata": {},
   "outputs": [],
   "source": [
    "import csv"
   ]
  },
  {
   "cell_type": "code",
   "execution_count": 44,
   "metadata": {
    "scrolled": false
   },
   "outputs": [],
   "source": [
    "i=0\n",
    "with open('../../arquivo.entrada.tp2.bd1.artigos.csv','r',encoding='utf-8') as f:\n",
    "    \n",
    "    reader = csv.reader(f, delimiter=';')\n",
    "    for r in reader:\n",
    "        #print('id ' + r[0])\n",
    "        #print('titulo ' + r[1])\n",
    "        #print('ano ' + r[2])\n",
    "        #print('autores ' + r[3])\n",
    "        #print('citacoes ' + r[4])\n",
    "        #print('atualizacao ' + r[5])\n",
    "        #print('snippet ' + r[6])\n",
    "        if i == 10:\n",
    "            break\n",
    "        i+=1\n",
    "arquivoDados.close()"
   ]
  },
  {
   "cell_type": "code",
   "execution_count": 45,
   "metadata": {},
   "outputs": [
    {
     "name": "stdout",
     "output_type": "stream",
     "text": [
      "\"1\";\"Poster: 3D sketching and flexible input for surface design: A case study.\";\"2013\";\"Anamary Leal|Doug A. Bowman\";\"0\";\"2016-07-28 09:36:29\";\"Poster: 3D sketching and flexible input for surface design: A case study. A Leal, DA Bowman -  Interfaces (3DUI), 2013 IEEE Symposium , 2013 - ieeexplore.ieee.org. ABSTRACT Designing three-dimensional (3D) surfaces is difficult in both the physical world  and in 3D modeling software, requiring background knowledge and skill. The goal of this  work is to make 3D surface design easier and more accessible through natural and  ..\"\n",
      "\"2\";\"Poster: Portable integral photography input/ output system using tablet PC and fly's eye lenses.\";\"2013\";\"Yusuke Kawano|Kazuhisa Yanaka\";\"0\";\"2016-07-28 09:36:49\";\"Poster: Portable integral photography input/output system using tablet PC and fly's eye lenses. Y Kawano, K Yanaka - 3D User Interfaces (3DUI), 2013 IEEE  , 2013 - ieeexplore.ieee.org. ABSTRACT We present a new system that can input and output integral photography  images. The system consists of a commerciallyavailable tablet PC to which fly's eye lenses,  one of which is for input and the other for output IP images, are attached. Light rays  ..\"\n",
      "\"3\";\"Poster: Real-time markerless kinect based finger tracking and hand gesture recognition for HCI.\";\"2013\";\"Arun Kulshreshth|Christopher Zorn|Joseph J. LaViola Jr.\";\"22\";\"2016-10-03 21:16:22\";\"Poster: Real-time markerless kinect based finger tracking and hand gesture recognition for HCI. A Kulshreshth, C Zorn, JJ LaViola - 3D User Interfaces (3DUI),  , 2013 - ieeexplore.ieee.org. ABSTRACT Hand gestures are intuitive ways to interact with a variety of user interfaces. We  developed a real-time finger tracking technique using the Microsoft Kinect as an input device  and compared its results with an existing technique that uses the K-curvature algorithm.  ..\"\n",
      "\"4\";\"Poster: Real time hand pose recognition with depth sensors for mixed reality interfaces.\";\"2013\";\"Byungkyu Kang|Mathieu Rodrigue|Tobias H&ouml;llerer|Hwasup Lim\";\"1\";\"2016-10-03 21:38:17\";\"Poster: Real time hand pose recognition with depth sensors for mixed reality interfaces. B Kang, M Rodrigue, T HÃ¶llerer - 3D User Interfaces (3DUI) , 2013 - ieeexplore.ieee.org. ABSTRACT We present a method for predicting articulated hand poses in realtime with a  single depth camera, such as the Kinect or Xtion Pro, for the purpose of interaction in a  Mixed Reality environment and for studying the effects of realistic and non-realistic  ..\"\n",
      "\"5\";\"Design and implementation of an immersive virtual reality system based on a smartphone platform.\";\"2013\";\"Anthony Steed|Simon Julier\";\"12\";\"2016-10-03 21:10:56\";\"Design and implementation of an immersive virtual reality system based on a smartphone platform. A Steed, S Julier - 3D User Interfaces (3DUI), 2013 IEEE  , 2013 - ieeexplore.ieee.org. ABSTRACT With the increasing power of mobile CPUs and GPUs, it is becoming tractable to  integrate all the components of an interactive, immersive virtual reality system onto a small  mobile device. We present a demonstration of a head-mounted display system integrated  ..\"\n",
      "\"6\";\"Poster: Lifted road map view on windshield display.\";\"2013\";\"Takaya Kawamata|Itaru Kitahara|Yoshinari Kameda|Yuichi Ohta\";\"1\";\"2016-10-03 21:34:50\";\"Poster: Lifted road map view on windshield display. T Kawamata, I Kitahara, Y Kameda - 3D User Interfaces ( , 2013 - ieeexplore.ieee.org. ABSTRACT A new road map visualization method at window shield display for vehicle driver  is proposed. Road structure ahead of a vehicle is shown by CG line segments at the upper  area of driver view in augmented reality fashion. Road line segments are virtually placed  ..\"\n",
      "\"7\";\"Poster: Comparing usability of a single versus dual interaction metaphor in a multitask healthcare simulation.\";\"2013\";\"Lauren Cairco Dukes|Jeffrey W. Bertrand|Manan Gupta|Rowan Armstrong|Tracy Fasolino|Sabarish V. Babu|Larry F. Hodges\";\"1\";\"2016-10-03 21:42:27\";\"Poster: Comparing usability of a single versus dual interaction metaphor in a multitask healthcare simulation. LC Dukes, J Bertra\n",
      "Bertrand, M Gupta - 3D User Interfaces ( , 2013 - ieeexplore.ieee.org. ABSTRACT We present the results of a user study performed within a multitask healthcare  simulation, where nurses are required to care for virtual patients within a 3D virtual  environment while recording data in a 2D graphical user interface (GUI) based electronic  ..\"\n",
      "\"8\";\"Poster: Creating a user-specific perspective view for mobile mixed reality systems on smartphones.\";\"2013\";\"Yuki Matsuda|Fumihisa Shibata|Asako Kimura|Hideyuki Tamura\";\"1\";\"2016-10-03 21:33:00\";\"Poster: Creating a user-specific perspective view for mobile mixed reality systems on smartphones. Y Matsuda, F Shibata, A Kimura - 3D User Interfaces ( , 2013 - ieeexplore.ieee.org. ABSTRACT We propose a method for creating a user-specific perspective view for mobile  mixed reality (MR) systems that provides threedimensional perception based on pseudo  motion parallax. In general, most common mainstream interface for a hand-held AR/MR  ..\"\n",
      "\"9\";\"Poster: Markerless fingertip-based 3D interaction for handheld augmented reality in a small workspace.\";\"2013\";\"Huidong Bai|Lei Gao|Mark Billinghurst\";\"5\";\"2016-10-03 20:58:04\";\"Poster: Markerless fingertip-based 3D interaction for handheld augmented reality in a small workspace. H Bai, L Gao, M Billinghurst - 3D User Interfaces (3DUI), 2013  , 2013 - ieeexplore.ieee.org. ABSTRACT Compared with traditional screen-touch input, natural gesturebased interaction  approaches could offer a more intuitive user experience in handheld Augmented Reality  (AR) applications. However, most gesture interaction techniques for handheld AR only  ..\"\n",
      "\"10\";\"Poster: A wearable augmented reality system with haptic feedback and its performance in virtual assembly tasks.\";\"2013\";\"Kazuya Murakami|Ryo Kiyama|Takuji Narumi|Tomohiro Tanikawa|Michitaka Hirose\";\"10\";\"2016-10-03 21:05:42\";\"Poster: A wearable augmented reality system with haptic feedback and its performance in virtual assembly tasks. K Murakami, R Kiyama, T Narumi - 3D User Interfaces ( , 2013 - ieeexplore.ieee.org. ABSTRACT Haptic feedback is important to improve the operability of virtual objects.  However, AR systems with haptic feedback are still not many. Moreover, users cannot  perform tasks that need large workspaces in those systems because of physical  ..\"\n",
      "\"11\";\"Tactile flow on seat pan modulates perceived forward velocity.\";\"2013\";\"Tomohiro Amemiya|Koichi Hirota|Yasushi Ikei\";\"2\";\"2016-10-03 21:34:39\";\"Tactile flow on seat pan modulates perceived forward velocity. T Amemiya, K Hirota, Y Ikei - 3D User Interfaces (3DUI), 2013  , 2013 - ieeexplore.ieee.org. ABSTRACT We conducted a user study to clarify whether a tactile flow created by a matrix of  vibrators in a seat pan simultaneously presented with an optical flow in peripheral vision  enhances the perceived forward velocity of self-motion. A brief tactile motion stimulus  ..\"\n",
      "\"12\";\"Poster: Observing change in crowded data sets in 3D space - Visualizing gene expression in human tissues.\";\"2013\";\"Marcin Rogowski|Carlo Vittorio Cannistraci|Gregorio Alanis-Lobato|Philip P. Weber|Timothy Ravasi|J&uuml;rgen P. Schulze|Daniel Acevedo Feliz\";\"0\";\"2012-12-31 23:00:00\";NULL\n",
      "\"13\";\"Poster: Volume Cracker: A bimanual 3D interaction technique for analysis of raw volumetric data.\";\"2013\";\"Bireswar Laha|Doug A. Bowman\";\"1\";\"2016-10-03 21:35:55\";\"Poster: Volume Cracker: A bimanual 3D interaction technique for analysis of raw volumetric data. B Laha, DA Bowman - 3D User Interfaces (3DUI), 2013 IEEE  , 2013 - ieeexplore.ieee.org. ABSTRACT Volume data analysis often involves finding structures inside the volume.  Segmentation is the standard method, but it is quite timeconsuming. Alternate approaches  remove context, assume prior definition of ROI or segments, or distort part of the volume.  ..\"\n",
      "\"14\";\"DIY World Builder: An immersive level-editing system.\";\"2013\";\"Jia Wang|Owen Leach|Robert W. Lindeman\";\"4\";\"2016-10-03 20:54:41\";\"DIY World Builder: An immersive level-editing system. J Wang, O Leach, RW Lindeman - 3D User Interfaces (3DUI),  , 2013 - ieeexplore.ieee.org. \n"
     ]
    }
   ],
   "source": [
    "arq = open('../../arquivo.entrada.tp2.bd1.artigos.csv','r',encoding='utf-8')\n",
    "arq.seek(0, 0)\n",
    "bloco = arq.read(4096)\n",
    "print(bloco)\n",
    "arq.seek(4098, 0)\n",
    "bloco = arq.read(4096)\n",
    "print(bloco)\n"
   ]
  },
  {
   "cell_type": "code",
   "execution_count": null,
   "metadata": {},
   "outputs": [],
   "source": []
  }
 ],
 "metadata": {
  "kernelspec": {
   "display_name": "Python 3",
   "language": "python",
   "name": "python3"
  },
  "language_info": {
   "codemirror_mode": {
    "name": "ipython",
    "version": 3
   },
   "file_extension": ".py",
   "mimetype": "text/x-python",
   "name": "python",
   "nbconvert_exporter": "python",
   "pygments_lexer": "ipython3",
   "version": "3.6.1"
  }
 },
 "nbformat": 4,
 "nbformat_minor": 2
}
