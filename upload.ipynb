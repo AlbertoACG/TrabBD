{
 "cells": [
  {
   "cell_type": "code",
   "execution_count": 28,
   "metadata": {},
   "outputs": [],
   "source": [
    "import csv\n",
    "import sys"
   ]
  },
  {
   "cell_type": "code",
   "execution_count": 5,
   "metadata": {},
   "outputs": [
    {
     "name": "stdout",
     "output_type": "stream",
     "text": [
      "id 1\n",
      "titutlo Poster: 3D sketching and flexible input for surface design: A case study.\n",
      "ano 2013\n",
      "autores Anamary Leal|Doug A. Bowman\n",
      "citacoes 0\n",
      "atualizacao 2016-07-28 09:36:29\n",
      "snippet Poster: 3D sketching and flexible input for surface design: A case study. A Leal, DA Bowman -  Interfaces (3DUI), 2013 IEEE Symposium , 2013 - ieeexplore.ieee.org. ABSTRACT Designing three-dimensional (3D) surfaces is difficult in both the physical world  and in 3D modeling software, requiring background knowledge and skill. The goal of this  work is to make 3D surface design easier and more accessible through natural and  ..\n"
     ]
    }
   ],
   "source": [
    "i = 7\n",
    "with open('arquivo.entrada.tp2.bd1.artigos.csv','r') as f:\n",
    "    reader = csv.reader(f, delimiter=';')\n",
    "    for r in reader:\n",
    "        print('id ' + r[0])\n",
    "        print('titutlo ' + r[1])\n",
    "        print('ano ' + r[2])\n",
    "        print('autores ' + r[3])\n",
    "        print('citacoes ' + r[4])\n",
    "        print('atualizacao ' + r[5])\n",
    "        print('snippet ' + r[6])\n",
    "        break"
   ]
  },
  {
   "cell_type": "code",
   "execution_count": 39,
   "metadata": {},
   "outputs": [
    {
     "name": "stdout",
     "output_type": "stream",
     "text": [
      "1073\n",
      "199\n",
      "349\n",
      "1633\n"
     ]
    }
   ],
   "source": [
    "a = ''\n",
    "for i in range(0,1024):\n",
    "    a += 'a'\n",
    "b = ''\n",
    "for i in range(0,150):\n",
    "    b += 'a'\n",
    "c = ''\n",
    "for i in range(0,300):\n",
    "    c += 'c'\n",
    "d = ''\n",
    "for i in range(0,8):\n",
    "    d += 'c'\n",
    "\n",
    "print(sys.getsizeof(a))\n",
    "print(sys.getsizeof(b))\n",
    "print(sys.getsizeof(c))\n",
    "print(sys.getsizeof(a) + sys.getsizeof(b) + sys.getsizeof(c) + (3*4))"
   ]
  },
  {
   "cell_type": "code",
   "execution_count": null,
   "metadata": {},
   "outputs": [],
   "source": []
  }
 ],
 "metadata": {
  "kernelspec": {
   "display_name": "Python 3",
   "language": "python",
   "name": "python3"
  },
  "language_info": {
   "codemirror_mode": {
    "name": "ipython",
    "version": 3
   },
   "file_extension": ".py",
   "mimetype": "text/x-python",
   "name": "python",
   "nbconvert_exporter": "python",
   "pygments_lexer": "ipython3",
   "version": "3.6.1"
  }
 },
 "nbformat": 4,
 "nbformat_minor": 2
}
